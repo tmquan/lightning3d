{
 "cells": [
  {
   "cell_type": "code",
   "execution_count": 28,
   "metadata": {},
   "outputs": [
    {
     "name": "stdout",
     "output_type": "stream",
     "text": [
      "Requirement already satisfied: monai in /home/quantm/anaconda3/envs/kaolin/lib/python3.11/site-packages (1.4.0)\n",
      "Requirement already satisfied: numpy<2.0,>=1.24 in /home/quantm/anaconda3/envs/kaolin/lib/python3.11/site-packages (from monai) (1.24.3)\n",
      "Requirement already satisfied: torch>=1.9 in /home/quantm/anaconda3/envs/kaolin/lib/python3.11/site-packages (from monai) (2.4.0)\n",
      "Requirement already satisfied: filelock in /home/quantm/anaconda3/envs/kaolin/lib/python3.11/site-packages (from torch>=1.9->monai) (3.13.1)\n",
      "Requirement already satisfied: typing-extensions>=4.8.0 in /home/quantm/anaconda3/envs/kaolin/lib/python3.11/site-packages (from torch>=1.9->monai) (4.12.2)\n",
      "Requirement already satisfied: sympy in /home/quantm/anaconda3/envs/kaolin/lib/python3.11/site-packages (from torch>=1.9->monai) (1.13.2)\n",
      "Requirement already satisfied: networkx in /home/quantm/anaconda3/envs/kaolin/lib/python3.11/site-packages (from torch>=1.9->monai) (3.3)\n",
      "Requirement already satisfied: jinja2 in /home/quantm/anaconda3/envs/kaolin/lib/python3.11/site-packages (from torch>=1.9->monai) (3.1.4)\n",
      "Requirement already satisfied: fsspec in /home/quantm/anaconda3/envs/kaolin/lib/python3.11/site-packages (from torch>=1.9->monai) (2024.10.0)\n",
      "Requirement already satisfied: MarkupSafe>=2.0 in /home/quantm/anaconda3/envs/kaolin/lib/python3.11/site-packages (from jinja2->torch>=1.9->monai) (2.1.3)\n",
      "Requirement already satisfied: mpmath<1.4,>=1.1.0 in /home/quantm/anaconda3/envs/kaolin/lib/python3.11/site-packages (from sympy->torch>=1.9->monai) (1.3.0)\n"
     ]
    }
   ],
   "source": [
    "%%bash\n",
    "pip install -U monai"
   ]
  },
  {
   "cell_type": "code",
   "execution_count": 29,
   "metadata": {},
   "outputs": [],
   "source": [
    "import torch\n",
    "import torchvision\n",
    "from tqdm import tqdm\n",
    "import numpy as np\n",
    "from IPython.display import Image\n",
    "from monai.transforms import (\n",
    "    apply_transform,\n",
    "    Randomizable,\n",
    "    Compose,\n",
    "    OneOf,\n",
    "    EnsureChannelFirstDict,\n",
    "    LoadImageDict,\n",
    "    SpacingDict,\n",
    "    OrientationDict,\n",
    "    DivisiblePadDict,\n",
    "    CropForegroundDict,\n",
    "    ResizeDict,\n",
    "    RandZoomDict,\n",
    "    ZoomDict,\n",
    "    RandRotateDict,\n",
    "    HistogramNormalizeDict,\n",
    "    ScaleIntensityDict,\n",
    "    ScaleIntensityRangeDict,\n",
    "    ToTensorDict,\n",
    "    Transform\n",
    ")"
   ]
  },
  {
   "cell_type": "code",
   "execution_count": 30,
   "metadata": {},
   "outputs": [],
   "source": [
    "%%bash\n",
    "mkdir -p vis"
   ]
  },
  {
   "cell_type": "code",
   "execution_count": 31,
   "metadata": {},
   "outputs": [],
   "source": [
    "import os\n",
    "import glob\n",
    "from tqdm.auto import tqdm"
   ]
  },
  {
   "cell_type": "code",
   "execution_count": 32,
   "metadata": {},
   "outputs": [
    {
     "name": "stdout",
     "output_type": "stream",
     "text": [
      "402\n",
      "['../data/ChestXRLungSegmentation/NSCLC/processed/train/images/LUNG1-001_0000.nii.gz']\n"
     ]
    }
   ],
   "source": [
    "def glob_files(folders: str = None, extension: str = \"*.nii.gz\"):\n",
    "    assert folders is not None\n",
    "    paths = [\n",
    "        glob.glob(os.path.join(folder, extension), recursive=True)\n",
    "        for folder in folders\n",
    "    ]\n",
    "    files = sorted([item for sublist in paths for item in sublist])\n",
    "    print(len(files))\n",
    "    print(files[:1])\n",
    "    return files\n",
    "\n",
    "ct_folders = [\n",
    "    \"../data/ChestXRLungSegmentation/NSCLC/processed/train/images\",\n",
    "]\n",
    "ct_images = glob_files(\n",
    "    ct_folders, \n",
    "    extension=\"*.nii.gz\"\n",
    ")"
   ]
  },
  {
   "cell_type": "code",
   "execution_count": 33,
   "metadata": {},
   "outputs": [],
   "source": [
    "class UnSqueezeDim(Transform):\n",
    "    \"\"\"\n",
    "    Squeeze unnecessary unitary dimensions\n",
    "    \"\"\"\n",
    "\n",
    "    def __init__(self, dim=None):\n",
    "        \"\"\"\n",
    "        Args:\n",
    "            dim (int): dimension to be squeezed.\n",
    "                Default: None (all dimensions of size 1 will be removed)\n",
    "        \"\"\"\n",
    "        if dim is not None:\n",
    "            assert isinstance(dim, int) and dim >= -1, 'invalid channel dimension.'\n",
    "        self.dim = dim\n",
    "\n",
    "    def __call__(self, img):\n",
    "        \"\"\"\n",
    "        Args:\n",
    "            data (dict): dictionary of numpy arrays with dim removed,\n",
    "        \"\"\"\n",
    "        return np.expand_dims(img, self.dim)\n",
    "\n",
    "class SqueezeDim(Transform):\n",
    "    \"\"\"\n",
    "    Squeeze unnecessary unitary dimensions\n",
    "    \"\"\"\n",
    "\n",
    "    def __init__(self, dim=None):\n",
    "        \"\"\"\n",
    "        Args:\n",
    "            dim (int): dimension to be squeezed.\n",
    "                Default: None (all dimensions of size 1 will be removed)\n",
    "        \"\"\"\n",
    "        if dim is not None:\n",
    "            assert isinstance(dim, int) and dim >= -1, 'invalid channel dimension.'\n",
    "        self.dim = dim\n",
    "\n",
    "    def __call__(self, img):\n",
    "        \"\"\"\n",
    "        Args:\n",
    "            data (dict): dictionary of numpy arrays with dim removed,\n",
    "        \"\"\"\n",
    "        return np.squeeze(img, self.dim)"
   ]
  },
  {
   "cell_type": "code",
   "execution_count": 34,
   "metadata": {},
   "outputs": [
    {
     "name": "stderr",
     "output_type": "stream",
     "text": [
      "/home/quantm/anaconda3/envs/kaolin/lib/python3.11/site-packages/monai/utils/deprecate_utils.py:321: FutureWarning: monai.transforms.croppad.dictionary CropForegroundd.__init__:allow_smaller: Current default value of argument `allow_smaller=True` has been deprecated since version 1.2. It will be changed to `allow_smaller=False` in version 1.5.\n",
      "  warn_deprecated(argname, msg, warning_category)\n"
     ]
    },
    {
     "name": "stdout",
     "output_type": "stream",
     "text": [
      "torch.Size([1, 1, 256, 256, 256])\n"
     ]
    }
   ],
   "source": [
    "# Define the transformation pipeline for \"image2d\"\n",
    "val_transforms_asl = Compose(\n",
    "    [\n",
    "        LoadImageDict(keys=[\"image3d\"]),\n",
    "        EnsureChannelFirstDict(keys=[\"image3d\"],),\n",
    "        SpacingDict(\n",
    "            keys=[\"image3d\"],\n",
    "            pixdim=(1.0, 1.0, 1.0),\n",
    "            mode=[\"bilinear\"],\n",
    "            align_corners=True,\n",
    "        ),\n",
    "        OrientationDict(keys=(\"image3d\"), axcodes=\"ASL\"),\n",
    "        ScaleIntensityRangeDict(\n",
    "            keys=[\"image3d\"],\n",
    "            clip=True,\n",
    "            a_min=-1024,\n",
    "            a_max=+3071,\n",
    "            b_min=0.0,\n",
    "            b_max=1.0,\n",
    "        ),\n",
    "        CropForegroundDict(\n",
    "            keys=[\"image3d\"],\n",
    "            source_key=\"image3d\",\n",
    "            select_fn=(lambda x: x > 0),\n",
    "            margin=0,\n",
    "        ),\n",
    "        ZoomDict(keys=[\"image3d\"], zoom=0.95, padding_mode=\"constant\", mode=[\"area\"]),\n",
    "        ResizeDict(\n",
    "            keys=[\"image3d\"],\n",
    "            spatial_size=256,\n",
    "            size_mode=\"longest\",\n",
    "            mode=[\"trilinear\"],\n",
    "            align_corners=True,\n",
    "        ),\n",
    "        DivisiblePadDict(\n",
    "            keys=[\"image3d\"],\n",
    "            k=256,\n",
    "            mode=\"constant\",\n",
    "            constant_values=0,\n",
    "        ),\n",
    "        ToTensorDict(keys=[\"image3d\"],),\n",
    "    ]\n",
    ")\n",
    "\n",
    "# Run forward pass\n",
    "device = torch.device('cuda:0')\n",
    "B = 1\n",
    "\n",
    "data = {}\n",
    "data[\"image3d\"] = ct_images[1]\n",
    "image3d = val_transforms_asl(data)\n",
    "\n",
    "image3d = image3d[\"image3d\"].to(device)\n",
    "image3d = image3d.unsqueeze(0)\n",
    "print(image3d.shape)"
   ]
  },
  {
   "cell_type": "markdown",
   "metadata": {},
   "source": [
    "# Start here"
   ]
  },
  {
   "cell_type": "code",
   "execution_count": null,
   "metadata": {},
   "outputs": [
    {
     "ename": "ErrorException",
     "evalue": "\n\tError in 'pxrInternal_v0_24__pxrReserved__::SdfLayer::_CreateNew' at line 599 in file /opt/USD/pxr/usd/sdf/layer.cpp : 'A layer already exists with identifier '/home/quantm/lightning3d/examples/image3d.usd''",
     "output_type": "error",
     "traceback": [
      "\u001b[0;31m---------------------------------------------------------------------------\u001b[0m",
      "\u001b[0;31mErrorException\u001b[0m                            Traceback (most recent call last)",
      "Cell \u001b[0;32mIn[35], line 3\u001b[0m\n\u001b[1;32m      1\u001b[0m \u001b[38;5;28;01mimport\u001b[39;00m \u001b[38;5;21;01mkaolin\u001b[39;00m \u001b[38;5;28;01mas\u001b[39;00m \u001b[38;5;21;01mkal\u001b[39;00m\n\u001b[0;32m----> 3\u001b[0m stage \u001b[38;5;241m=\u001b[39m \u001b[43mkal\u001b[49m\u001b[38;5;241;43m.\u001b[39;49m\u001b[43mio\u001b[49m\u001b[38;5;241;43m.\u001b[39;49m\u001b[43musd\u001b[49m\u001b[38;5;241;43m.\u001b[39;49m\u001b[43mvoxelgrid\u001b[49m\u001b[38;5;241;43m.\u001b[39;49m\u001b[43mexport_voxelgrid\u001b[49m\u001b[43m(\u001b[49m\n\u001b[1;32m      4\u001b[0m \u001b[43m    \u001b[49m\u001b[38;5;124;43m\"\u001b[39;49m\u001b[38;5;124;43m./image3d.usd\u001b[39;49m\u001b[38;5;124;43m\"\u001b[39;49m\u001b[43m,\u001b[49m\u001b[43m \u001b[49m\n\u001b[1;32m      5\u001b[0m \u001b[43m    \u001b[49m\u001b[43mimage3d\u001b[49m\u001b[38;5;241;43m.\u001b[39;49m\u001b[43msqueeze\u001b[49m\u001b[43m(\u001b[49m\u001b[43m)\u001b[49m\u001b[43m \u001b[49m\u001b[38;5;241;43m>\u001b[39;49m\u001b[43m \u001b[49m\u001b[38;5;241;43m0.5\u001b[39;49m\n\u001b[1;32m      6\u001b[0m \u001b[43m)\u001b[49m\n",
      "File \u001b[0;32m~/anaconda3/envs/kaolin/lib/python3.11/site-packages/kaolin/io/usd/voxelgrid.py:223\u001b[0m, in \u001b[0;36mexport_voxelgrid\u001b[0;34m(file_path, voxelgrid, scene_path, time)\u001b[0m\n\u001b[1;32m    221\u001b[0m \u001b[38;5;28;01mif\u001b[39;00m time \u001b[38;5;129;01mis\u001b[39;00m \u001b[38;5;28;01mNone\u001b[39;00m:\n\u001b[1;32m    222\u001b[0m     time \u001b[38;5;241m=\u001b[39m Usd\u001b[38;5;241m.\u001b[39mTimeCode\u001b[38;5;241m.\u001b[39mDefault()\n\u001b[0;32m--> 223\u001b[0m stage \u001b[38;5;241m=\u001b[39m \u001b[43mexport_voxelgrids\u001b[49m\u001b[43m(\u001b[49m\u001b[43mfile_path\u001b[49m\u001b[43m,\u001b[49m\u001b[43m \u001b[49m\u001b[43m[\u001b[49m\u001b[43mvoxelgrid\u001b[49m\u001b[43m]\u001b[49m\u001b[43m,\u001b[49m\u001b[43m \u001b[49m\u001b[43m[\u001b[49m\u001b[43mscene_path\u001b[49m\u001b[43m]\u001b[49m\u001b[43m,\u001b[49m\u001b[43m \u001b[49m\u001b[43mtimes\u001b[49m\u001b[38;5;241;43m=\u001b[39;49m\u001b[43m[\u001b[49m\u001b[43mtime\u001b[49m\u001b[43m]\u001b[49m\u001b[43m)\u001b[49m\n\u001b[1;32m    224\u001b[0m \u001b[38;5;28;01mreturn\u001b[39;00m stage\n",
      "File \u001b[0;32m~/anaconda3/envs/kaolin/lib/python3.11/site-packages/kaolin/io/usd/voxelgrid.py:253\u001b[0m, in \u001b[0;36mexport_voxelgrids\u001b[0;34m(file_path, voxelgrids, scene_paths, times)\u001b[0m\n\u001b[1;32m    251\u001b[0m     times \u001b[38;5;241m=\u001b[39m [Usd\u001b[38;5;241m.\u001b[39mTimeCode\u001b[38;5;241m.\u001b[39mDefault()] \u001b[38;5;241m*\u001b[39m \u001b[38;5;28mlen\u001b[39m(scene_paths)\n\u001b[1;32m    252\u001b[0m \u001b[38;5;28;01massert\u001b[39;00m \u001b[38;5;28mlen\u001b[39m(voxelgrids) \u001b[38;5;241m==\u001b[39m \u001b[38;5;28mlen\u001b[39m(scene_paths)\n\u001b[0;32m--> 253\u001b[0m stage \u001b[38;5;241m=\u001b[39m \u001b[43mcreate_stage\u001b[49m\u001b[43m(\u001b[49m\u001b[43mfile_path\u001b[49m\u001b[43m)\u001b[49m\n\u001b[1;32m    254\u001b[0m \u001b[38;5;28;01mfor\u001b[39;00m scene_path, voxelgrid, time \u001b[38;5;129;01min\u001b[39;00m \u001b[38;5;28mzip\u001b[39m(scene_paths, voxelgrids, times):\n\u001b[1;32m    255\u001b[0m     add_voxelgrid(stage, voxelgrid, scene_path, time\u001b[38;5;241m=\u001b[39mtime)\n",
      "File \u001b[0;32m~/anaconda3/envs/kaolin/lib/python3.11/site-packages/kaolin/io/usd/utils.py:136\u001b[0m, in \u001b[0;36mcreate_stage\u001b[0;34m(file_path, up_axis)\u001b[0m\n\u001b[1;32m    121\u001b[0m \u001b[38;5;250m\u001b[39m\u001b[38;5;124mr\u001b[39m\u001b[38;5;124;03m\"\"\"Create a new USD file and return an empty stage.\u001b[39;00m\n\u001b[1;32m    122\u001b[0m \n\u001b[1;32m    123\u001b[0m \u001b[38;5;124;03mArgs:\u001b[39;00m\n\u001b[0;32m   (...)\u001b[0m\n\u001b[1;32m    133\u001b[0m \u001b[38;5;124;03m    <class 'pxr.Usd.Stage'>\u001b[39;00m\n\u001b[1;32m    134\u001b[0m \u001b[38;5;124;03m\"\"\"\u001b[39;00m\n\u001b[1;32m    135\u001b[0m \u001b[38;5;28;01massert\u001b[39;00m os\u001b[38;5;241m.\u001b[39mpath\u001b[38;5;241m.\u001b[39mexists(os\u001b[38;5;241m.\u001b[39mpath\u001b[38;5;241m.\u001b[39mdirname(file_path)), \u001b[38;5;124mf\u001b[39m\u001b[38;5;124m'\u001b[39m\u001b[38;5;124mDirectory \u001b[39m\u001b[38;5;132;01m{\u001b[39;00mos\u001b[38;5;241m.\u001b[39mpath\u001b[38;5;241m.\u001b[39mdirname(file_path)\u001b[38;5;132;01m}\u001b[39;00m\u001b[38;5;124m not found.\u001b[39m\u001b[38;5;124m'\u001b[39m\n\u001b[0;32m--> 136\u001b[0m stage \u001b[38;5;241m=\u001b[39m \u001b[43mUsd\u001b[49m\u001b[38;5;241;43m.\u001b[39;49m\u001b[43mStage\u001b[49m\u001b[38;5;241;43m.\u001b[39;49m\u001b[43mCreateNew\u001b[49m\u001b[43m(\u001b[49m\u001b[38;5;28;43mstr\u001b[39;49m\u001b[43m(\u001b[49m\u001b[43mfile_path\u001b[49m\u001b[43m)\u001b[49m\u001b[43m)\u001b[49m\n\u001b[1;32m    137\u001b[0m world \u001b[38;5;241m=\u001b[39m stage\u001b[38;5;241m.\u001b[39mDefinePrim(\u001b[38;5;124m'\u001b[39m\u001b[38;5;124m/World\u001b[39m\u001b[38;5;124m'\u001b[39m, \u001b[38;5;124m'\u001b[39m\u001b[38;5;124mXform\u001b[39m\u001b[38;5;124m'\u001b[39m)\n\u001b[1;32m    138\u001b[0m stage\u001b[38;5;241m.\u001b[39mSetDefaultPrim(world)\n",
      "\u001b[0;31mErrorException\u001b[0m: \n\tError in 'pxrInternal_v0_24__pxrReserved__::SdfLayer::_CreateNew' at line 599 in file /opt/USD/pxr/usd/sdf/layer.cpp : 'A layer already exists with identifier '/home/quantm/lightning3d/examples/image3d.usd''"
     ]
    }
   ],
   "source": [
    "import math\n",
    "import kaolin as kal\n",
    "\n",
    "camera = kal.render.camera.Camera.from_args(\n",
    "    eye=torch.ones((3,)), \n",
    "    at=torch.zeros((3,)), \n",
    "    up=torch.tensor([0., 1., 0.]),\n",
    "    fov=math.pi * 45 / 180, \n",
    "    height=512, width=512\n",
    ")\n"
   ]
  },
  {
   "cell_type": "code",
   "execution_count": null,
   "metadata": {},
   "outputs": [],
   "source": []
  }
 ],
 "metadata": {
  "kernelspec": {
   "display_name": "kaolin",
   "language": "python",
   "name": "python3"
  },
  "language_info": {
   "codemirror_mode": {
    "name": "ipython",
    "version": 3
   },
   "file_extension": ".py",
   "mimetype": "text/x-python",
   "name": "python",
   "nbconvert_exporter": "python",
   "pygments_lexer": "ipython3",
   "version": "3.11.8"
  }
 },
 "nbformat": 4,
 "nbformat_minor": 2
}

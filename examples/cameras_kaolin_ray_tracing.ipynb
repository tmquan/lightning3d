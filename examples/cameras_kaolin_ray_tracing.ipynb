{
 "cells": [
  {
   "cell_type": "code",
   "execution_count": 1,
   "metadata": {},
   "outputs": [],
   "source": [
    "import torch\n",
    "import numpy as np\n",
    "from kaolin.render.camera import Camera, \\\n",
    "    generate_rays, generate_pinhole_rays, \\\n",
    "    generate_centered_pixel_coords, generate_centered_custom_resolution_pixel_coords"
   ]
  },
  {
   "cell_type": "code",
   "execution_count": 2,
   "metadata": {},
   "outputs": [
    {
     "name": "stdout",
     "output_type": "stream",
     "text": [
      "CameraExtrinsics of 1 cameras, of coordinate system: \n",
      "tensor([[1., 0., 0.],\n",
      "        [0., 1., 0.],\n",
      "        [0., 0., 1.]], device='cuda:0', dtype=torch.float64). \n",
      "Camera #0 View Matrix: \n",
      "tensor([[[ 0.7071,  0.0000, -0.7071,  0.0000],\n",
      "         [-0.4082,  0.8165, -0.4082,  0.0000],\n",
      "         [ 0.5774,  0.5774,  0.5774, -6.9282],\n",
      "         [ 0.0000,  0.0000,  0.0000,  1.0000]]], device='cuda:0',\n",
      "       dtype=torch.float64),\n",
      "Camera #0 Inverse View Matrix: \n",
      "tensor([[[ 0.7071, -0.4082,  0.5774,  4.0000],\n",
      "         [ 0.0000,  0.8165,  0.5774,  4.0000],\n",
      "         [-0.7071, -0.4082,  0.5774,  4.0000],\n",
      "         [ 0.0000,  0.0000,  0.0000,  1.0000]]], device='cuda:0',\n",
      "       dtype=torch.float64)\n",
      "\n",
      "PinholeIntrinsics of 1 cameras of resolution 800x800.\n",
      "Camera #0: {'x0': 0.0, 'y0': 0.0, 'focal_x': 1492.820323027551, 'focal_y': 1492.820323027551}\n",
      "\n"
     ]
    }
   ],
   "source": [
    "camera = Camera.from_args(\n",
    "    eye=torch.tensor([4.0, 4.0, 4.0]),\n",
    "    at=torch.tensor([0.0, 0.0, 0.0]),\n",
    "    up=torch.tensor([0.0, 1.0, 0.0]),\n",
    "    fov=30 * np.pi / 180,  # In radians\n",
    "    x0=0.0, y0=0.0,\n",
    "    width=800, height=800,\n",
    "    near=1e-2, far=1e2,\n",
    "    dtype=torch.float64,\n",
    "    device='cuda'\n",
    ")\n",
    "print(camera)"
   ]
  },
  {
   "cell_type": "code",
   "execution_count": 3,
   "metadata": {},
   "outputs": [
    {
     "name": "stdout",
     "output_type": "stream",
     "text": [
      "Created a ray grid of dimensions: torch.Size([640000, 3])\n",
      "Ray origins:\n",
      "tensor([[4.0000, 4.0000, 4.0000],\n",
      "        [4.0000, 4.0000, 4.0000],\n",
      "        [4.0000, 4.0000, 4.0000],\n",
      "        ...,\n",
      "        [4.0000, 4.0000, 4.0000],\n",
      "        [4.0000, 4.0000, 4.0000],\n",
      "        [4.0000, 4.0000, 4.0000]], device='cuda:0', dtype=torch.float64)\n",
      "Ray directions:\n",
      "tensor([[-0.8191, -0.3356, -0.4652],\n",
      "        [-0.8188, -0.3357, -0.4657],\n",
      "        [-0.8185, -0.3357, -0.4662],\n",
      "        ...,\n",
      "        [-0.2618, -0.7446, -0.6141],\n",
      "        [-0.2613, -0.7444, -0.6144],\n",
      "        [-0.2608, -0.7443, -0.6148]], device='cuda:0', dtype=torch.float64)\n",
      "\n",
      "\n"
     ]
    },
    {
     "name": "stderr",
     "output_type": "stream",
     "text": [
      "/home/quantm/anaconda3/envs/kaolin/lib/python3.11/site-packages/torch/functional.py:513: UserWarning: torch.meshgrid: in an upcoming release, it will be required to pass the indexing argument. (Triggered internally at /opt/conda/conda-bld/pytorch_1720538456841/work/aten/src/ATen/native/TensorShape.cpp:3609.)\n",
      "  return _VF.meshgrid(tensors, **kwargs)  # type: ignore[attr-defined]\n"
     ]
    }
   ],
   "source": [
    "# General raygen functiontional version -- will invoke raygen according to the camera lens type\n",
    "ray_orig, ray_dir = generate_rays(camera)\n",
    "print(f'Created a ray grid of dimensions: {ray_orig.shape}')\n",
    "print('Ray origins:')\n",
    "print(ray_orig)\n",
    "print('Ray directions:')\n",
    "print(ray_dir)\n",
    "print('\\n')"
   ]
  },
  {
   "cell_type": "code",
   "execution_count": 4,
   "metadata": {},
   "outputs": [
    {
     "name": "stdout",
     "output_type": "stream",
     "text": [
      "Created a ray grid of dimensions: torch.Size([640000, 3])\n",
      "Ray origins:\n",
      "tensor([[4.0000, 4.0000, 4.0000],\n",
      "        [4.0000, 4.0000, 4.0000],\n",
      "        [4.0000, 4.0000, 4.0000],\n",
      "        ...,\n",
      "        [4.0000, 4.0000, 4.0000],\n",
      "        [4.0000, 4.0000, 4.0000],\n",
      "        [4.0000, 4.0000, 4.0000]], device='cuda:0', dtype=torch.float64)\n",
      "Ray directions:\n",
      "tensor([[-0.8191, -0.3356, -0.4652],\n",
      "        [-0.8188, -0.3357, -0.4657],\n",
      "        [-0.8185, -0.3357, -0.4662],\n",
      "        ...,\n",
      "        [-0.2618, -0.7446, -0.6141],\n",
      "        [-0.2613, -0.7444, -0.6144],\n",
      "        [-0.2608, -0.7443, -0.6148]], device='cuda:0', dtype=torch.float64)\n",
      "\n",
      "\n"
     ]
    }
   ],
   "source": [
    "# General raygen function OOP version -- can also be invoked directly on the camera object\n",
    "ray_org, ray_dir = camera.generate_rays()\n",
    "print(f'Created a ray grid of dimensions: {ray_org.shape}')\n",
    "print('Ray origins:')\n",
    "print(ray_org)\n",
    "print('Ray directions:')\n",
    "print(ray_dir)\n",
    "print('\\n')"
   ]
  },
  {
   "cell_type": "code",
   "execution_count": 5,
   "metadata": {},
   "outputs": [
    {
     "name": "stdout",
     "output_type": "stream",
     "text": [
      "Created a ray grid of dimensions: torch.Size([640000, 3])\n",
      "Ray origins:\n",
      "tensor([[4.0000, 4.0000, 4.0000],\n",
      "        [4.0000, 4.0000, 4.0000],\n",
      "        [4.0000, 4.0000, 4.0000],\n",
      "        ...,\n",
      "        [4.0000, 4.0000, 4.0000],\n",
      "        [4.0000, 4.0000, 4.0000],\n",
      "        [4.0000, 4.0000, 4.0000]], device='cuda:0', dtype=torch.float64)\n",
      "Ray directions:\n",
      "tensor([[-0.8191, -0.3356, -0.4652],\n",
      "        [-0.8188, -0.3357, -0.4657],\n",
      "        [-0.8185, -0.3357, -0.4662],\n",
      "        ...,\n",
      "        [-0.2618, -0.7446, -0.6141],\n",
      "        [-0.2613, -0.7444, -0.6144],\n",
      "        [-0.2608, -0.7443, -0.6148]], device='cuda:0', dtype=torch.float64)\n",
      "\n",
      "\n"
     ]
    }
   ],
   "source": [
    "# A specific raygen function can also be invoked directly. You may also add your own custom raygen functions that way\n",
    "ray_org, ray_dir = generate_pinhole_rays(camera)\n",
    "print(f'Created a ray grid of dimensions: {ray_org.shape}')\n",
    "print('Ray origins:')\n",
    "print(ray_org)\n",
    "print('Ray directions:')\n",
    "print(ray_dir)\n",
    "print('\\n')"
   ]
  },
  {
   "cell_type": "code",
   "execution_count": 6,
   "metadata": {},
   "outputs": [
    {
     "name": "stdout",
     "output_type": "stream",
     "text": [
      "Created a ray grid of different dimensions from camera image plane resolution: torch.Size([80000, 3])\n",
      "Ray origins:\n",
      "tensor([[4.0000, 4.0000, 4.0000],\n",
      "        [4.0000, 4.0000, 4.0000],\n",
      "        [4.0000, 4.0000, 4.0000],\n",
      "        ...,\n",
      "        [4.0000, 4.0000, 4.0000],\n",
      "        [4.0000, 4.0000, 4.0000],\n",
      "        [4.0000, 4.0000, 4.0000]], device='cuda:0', dtype=torch.float64)\n",
      "Ray directions:\n",
      "tensor([[-0.8188, -0.3365, -0.4652],\n",
      "        [-0.8182, -0.3366, -0.4662],\n",
      "        [-0.8175, -0.3367, -0.4672],\n",
      "        ...,\n",
      "        [-0.2634, -0.7443, -0.6137],\n",
      "        [-0.2625, -0.7440, -0.6144],\n",
      "        [-0.2615, -0.7438, -0.6151]], device='cuda:0', dtype=torch.float64)\n",
      "\n",
      "\n"
     ]
    }
   ],
   "source": [
    "# By using a custom grid input, other effects like lower resolution images can be supported\n",
    "height = 200\n",
    "width = 400\n",
    "pixel_grid = generate_centered_custom_resolution_pixel_coords(camera.width, camera.height, width, height, camera.device)\n",
    "ray_org, ray_dir = generate_pinhole_rays(camera, pixel_grid)\n",
    "print(f'Created a ray grid of different dimensions from camera image plane resolution: {ray_org.shape}')\n",
    "print('Ray origins:')\n",
    "print(ray_org)\n",
    "print('Ray directions:')\n",
    "print(ray_dir)\n",
    "print('\\n')"
   ]
  },
  {
   "cell_type": "code",
   "execution_count": null,
   "metadata": {},
   "outputs": [],
   "source": []
  }
 ],
 "metadata": {
  "kernelspec": {
   "display_name": "kaolin",
   "language": "python",
   "name": "python3"
  },
  "language_info": {
   "codemirror_mode": {
    "name": "ipython",
    "version": 3
   },
   "file_extension": ".py",
   "mimetype": "text/x-python",
   "name": "python",
   "nbconvert_exporter": "python",
   "pygments_lexer": "ipython3",
   "version": "3.11.8"
  }
 },
 "nbformat": 4,
 "nbformat_minor": 2
}
